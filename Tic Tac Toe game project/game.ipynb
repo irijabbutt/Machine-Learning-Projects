{
 "cells": [
  {
   "cell_type": "markdown",
   "metadata": {},
   "source": [
    "***DATA COLLECTION***"
   ]
  },
  {
   "cell_type": "code",
   "execution_count": 2,
   "metadata": {},
   "outputs": [],
   "source": [
    "import numpy as np\n",
    "import random\n",
    "   \n",
    "def random_data(samples):\n",
    "        samples=samples\n",
    "        data = []\n",
    "        labels = []\n",
    "        num=9\n",
    "        board=[]\n",
    "        for i in range(samples):\n",
    "            board=np.zeros(num,dtype=int)    \n",
    "            for move in range(num):\n",
    "                player=1 if move % 2==0 else 2\n",
    "                moves_available=np.where(board==0)[0]\n",
    "                if len(moves_available)==0:\n",
    "                   break\n",
    "                move_choosen=random.choice(moves_available)\n",
    "                board[move_choosen]=player\n",
    "                data.append(board.copy())\n",
    "                labels.append(move_choosen)\n",
    "        return np.array(data),np.array(labels)\n",
    "\n",
    "data,labels=random_data(20000)"
   ]
  },
  {
   "cell_type": "markdown",
   "metadata": {},
   "source": [
    "***MODEL TRAINING & EVALUATION***"
   ]
  },
  {
   "cell_type": "code",
   "execution_count": 3,
   "metadata": {},
   "outputs": [
    {
     "name": "stdout",
     "output_type": "stream",
     "text": [
      "Presicion: 48.43\n",
      "Recall Score: 48.38\n"
     ]
    }
   ],
   "source": [
    "from sklearn.model_selection import train_test_split\n",
    "from sklearn.ensemble import RandomForestClassifier\n",
    "from sklearn.metrics import precision_score\n",
    "from sklearn.metrics import recall_score\n",
    "\n",
    "x_train,x_test,y_train,y_test=train_test_split(data,labels,test_size=0.3,random_state=42)\n",
    "model=RandomForestClassifier(n_estimators=300,random_state=42,criterion='gini')\n",
    "model.fit(x_train,y_train)\n",
    "\n",
    "y_pred=model.predict(x_test)\n",
    "precision=precision_score(y_test,y_pred,average='weighted')\n",
    "recall=recall_score(y_test,y_pred,average='macro')\n",
    "print(f\"Presicion: {precision*100:.2f}\\nRecall Score: {recall*100:.2f}\")"
   ]
  },
  {
   "cell_type": "markdown",
   "metadata": {},
   "source": [
    "***GAME IMPLEMENTATION***"
   ]
  },
  {
   "cell_type": "code",
   "execution_count": 48,
   "metadata": {},
   "outputs": [],
   "source": [
    "class TicTacToe:\n",
    "    def __init__(self):\n",
    "        self.board = np.zeros(9, dtype=int)\n",
    "        self.current_player = 1\n",
    "        self.player1_name = \"\"\n",
    "        self.player2_name = \"\"\n",
    "\n",
    "    def print_board(self):\n",
    "        print(\" \" + (\"O\" if self.board[0] == 1 else \"X\" if self.board[0] == 2 else \" \") + \" | \" + \n",
    "            \" \" + (\"O\" if self.board[1] == 1 else \"X\" if self.board[1] == 2 else \" \") + \" | \" + \n",
    "            \" \" + (\"O\" if self.board[2] == 1 else \"X\" if self.board[2] == 2 else \" \"))\n",
    "        print(\"---+---+---\")\n",
    "        print(\" \" + (\"O\" if self.board[3] == 1 else \"X\" if self.board[3] == 2 else \" \") + \" | \" + \n",
    "            \" \" + (\"O\" if self.board[4] == 1 else \"X\" if self.board[4] == 2 else \" \") + \" | \" + \n",
    "            \" \" + (\"O\" if self.board[5] == 1 else \"X\" if self.board[5] == 2 else \" \"))\n",
    "        print(\"---+---+---\")\n",
    "        print(\" \" + (\"O\" if self.board[6] == 1 else \"X\" if self.board[6] == 2 else \" \") + \" | \" + \n",
    "            \" \" + (\"O\" if self.board[7] == 1 else \"X\" if self.board[7] == 2 else \" \") + \" | \" + \n",
    "            \" \" + (\"O\" if self.board[8] == 1 else \"X\" if self.board[8] == 2 else \" \"))\n",
    "            \n",
    "    def is_valid_move(self, move):\n",
    "        return self.board[move] == 0\n",
    "\n",
    "    def make_move(self, move):\n",
    "        if self.is_valid_move(move):\n",
    "            self.board[move] = self.current_player\n",
    "            self.current_player = 2 if self.current_player == 1 else 1\n",
    "            return True\n",
    "        return False\n",
    "\n",
    "    def check_win(self):\n",
    "        win_conditions = [(0, 1, 2), (3, 4, 5), (6, 7, 8), (0, 3, 6), (1, 4, 7), (2, 5, 8), (0, 4, 8), (2, 4, 6)]\n",
    "        for condition in win_conditions:\n",
    "            if self.board[condition[0]] == self.board[condition[1]] == self.board[condition[2]]!= 0:\n",
    "                return self.board[condition[0]]\n",
    "        if 0 not in self.board:\n",
    "            return 0  # Draw\n",
    "        return -1  # Game not over\n",
    "\n",
    "    def play_game(self):\n",
    "        self.player1_name = input(\"Enter Player 1's name: \")\n",
    "        self.player2_name = input(\"Enter Player 2's name: \")\n",
    "        print(\"Welcome to Tic Tac Toe!\")\n",
    "        print(\"Player 1 is \" + self.player1_name + \" and plays as O\")\n",
    "        print(\"Player 2 is \" + self.player2_name + \" and plays as X\")\n",
    "        while True:\n",
    "            self.print_board()\n",
    "            if self.current_player == 1:\n",
    "                move = int(input(f\"{self.player1_name}, enter your move (0-8): \"))\n",
    "                print(f\"{self.player1_name} makes move {move}\")\n",
    "            else:\n",
    "                move = int(input(f\"{self.player2_name}, enter your move (0-8): \"))\n",
    "                print(f\"{self.player2_name} makes move {move}\")\n",
    "            if self.make_move(move):\n",
    "                result = self.check_win()\n",
    "                \n",
    "                if result != -1:\n",
    "                    if result == 0:\n",
    "                        print(\"It's a draw!\")\n",
    "                    else:\n",
    "                        print(f\"{self.player1_name if result == 1 else self.player2_name} wins!\")\n",
    "                    break\n",
    "            else:\n",
    "                print(\"Invalid move, try again.\")"
   ]
  },
  {
   "cell_type": "code",
   "execution_count": 49,
   "metadata": {},
   "outputs": [
    {
     "name": "stdout",
     "output_type": "stream",
     "text": [
      "Welcome to Tic Tac Toe!\n",
      "Player 1 is qasq and plays as O\n",
      "Player 2 is saa and plays as X\n",
      "   |    |   \n",
      "---+---+---\n",
      "   |    |   \n",
      "---+---+---\n",
      "   |    |   \n",
      "qasq makes move 0\n",
      " O |    |   \n",
      "---+---+---\n",
      "   |    |   \n",
      "---+---+---\n",
      "   |    |   \n",
      "saa makes move 1\n",
      " O |  X |   \n",
      "---+---+---\n",
      "   |    |   \n",
      "---+---+---\n",
      "   |    |   \n",
      "qasq makes move 2\n",
      " O |  X |  O\n",
      "---+---+---\n",
      "   |    |   \n",
      "---+---+---\n",
      "   |    |   \n",
      "saa makes move 3\n",
      " O |  X |  O\n",
      "---+---+---\n",
      " X |    |   \n",
      "---+---+---\n",
      "   |    |   \n",
      "qasq makes move 4\n",
      " O |  X |  O\n",
      "---+---+---\n",
      " X |  O |   \n",
      "---+---+---\n",
      "   |    |   \n",
      "saa makes move 5\n",
      " O |  X |  O\n",
      "---+---+---\n",
      " X |  O |  X\n",
      "---+---+---\n",
      "   |    |   \n",
      "qasq makes move 6\n",
      "qasq wins!\n"
     ]
    }
   ],
   "source": [
    "game = TicTacToe()\n",
    "game.play_game()"
   ]
  }
 ],
 "metadata": {
  "kernelspec": {
   "display_name": "Python 3",
   "language": "python",
   "name": "python3"
  },
  "language_info": {
   "codemirror_mode": {
    "name": "ipython",
    "version": 3
   },
   "file_extension": ".py",
   "mimetype": "text/x-python",
   "name": "python",
   "nbconvert_exporter": "python",
   "pygments_lexer": "ipython3",
   "version": "3.10.14"
  }
 },
 "nbformat": 4,
 "nbformat_minor": 2
}
